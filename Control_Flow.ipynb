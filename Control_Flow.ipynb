{
  "nbformat": 4,
  "nbformat_minor": 0,
  "metadata": {
    "colab": {
      "provenance": [],
      "authorship_tag": "ABX9TyPZwhrtOW2QI+4r21mC+S60",
      "include_colab_link": true
    },
    "kernelspec": {
      "name": "python3",
      "display_name": "Python 3"
    },
    "language_info": {
      "name": "python"
    }
  },
  "cells": [
    {
      "cell_type": "markdown",
      "metadata": {
        "id": "view-in-github",
        "colab_type": "text"
      },
      "source": [
        "<a href=\"https://colab.research.google.com/github/YossiTapiero26/Python_Basics/blob/main/Control_Flow.ipynb\" target=\"_parent\"><img src=\"https://colab.research.google.com/assets/colab-badge.svg\" alt=\"Open In Colab\"/></a>"
      ]
    },
    {
      "cell_type": "markdown",
      "source": [
        "# **Control flow in Python**\n",
        "\n",
        "1. Introduction to Control flow\n",
        "\n",
        "Control flow in programming refers to the order in which individual statements, instructions, or function calls are executed or evaluated. Understanding control flow is essential for creating algorithms and solving complex problems.\n",
        "\n",
        "2. Conditional Statements:\n",
        "\n",
        "Conditional statements allow you yo execute certain pieces of code based on whether a condition is true or false.\n",
        "\n"
      ],
      "metadata": {
        "id": "aIaUzM0YDvRT"
      }
    },
    {
      "cell_type": "markdown",
      "source": [
        "# **'If' Statement**\n",
        "\n"
      ],
      "metadata": {
        "id": "X82z6y0eEn7k"
      }
    },
    {
      "cell_type": "code",
      "source": [
        "x = 10\n",
        "if x > 5:\n",
        "  print(\"x is greater than 5\")"
      ],
      "metadata": {
        "colab": {
          "base_uri": "https://localhost:8080/"
        },
        "id": "Kjc7bG2jF8Xc",
        "outputId": "95e76906-3f07-4352-a799-d7cd55209d09"
      },
      "execution_count": null,
      "outputs": [
        {
          "output_type": "stream",
          "name": "stdout",
          "text": [
            "x is greater than 5\n"
          ]
        }
      ]
    },
    {
      "cell_type": "markdown",
      "source": [
        "# **'If-else' Statement**\n",
        "the if-else statement executes one block if the condition is true ans another block if the condition is false\n",
        "\n"
      ],
      "metadata": {
        "id": "3mYXAulJGATy"
      }
    },
    {
      "cell_type": "code",
      "source": [
        "x = 3\n",
        "if x > 4:\n",
        "  print(\"x is greater than 3\")\n",
        "else:\n",
        "  print(\"x is not greater than 3\")"
      ],
      "metadata": {
        "colab": {
          "base_uri": "https://localhost:8080/"
        },
        "id": "NtOpEh2aEmWI",
        "outputId": "7370f9b7-b837-4250-a4c0-423afd92cce9"
      },
      "execution_count": null,
      "outputs": [
        {
          "output_type": "stream",
          "name": "stdout",
          "text": [
            "x is not greater than 3\n"
          ]
        }
      ]
    },
    {
      "cell_type": "markdown",
      "source": [
        "# **'If-elif-else' Statement**\n"
      ],
      "metadata": {
        "id": "oPY4Of17GxGK"
      }
    },
    {
      "cell_type": "code",
      "source": [
        "x = 10\n",
        "if x > 5:\n",
        "  print(\"x is greater than 5\")\n",
        "elif x < 5:\n",
        "  print(\"x is less than 5\")\n",
        "else:\n",
        "  print(\"x is equal to 5\")"
      ],
      "metadata": {
        "colab": {
          "base_uri": "https://localhost:8080/"
        },
        "id": "DVt_SzELFn5N",
        "outputId": "932e1ed6-e643-4fae-97c3-a380ae6c43fb"
      },
      "execution_count": null,
      "outputs": [
        {
          "output_type": "stream",
          "name": "stdout",
          "text": [
            "x is greater than 5\n"
          ]
        }
      ]
    },
    {
      "cell_type": "markdown",
      "source": [
        "# **Looping Statements**\n",
        "\n",
        "Looping statements allow you to execute a block of code repeatedly"
      ],
      "metadata": {
        "id": "VHXOoK36HMv7"
      }
    },
    {
      "cell_type": "markdown",
      "source": [
        "## 'for' Loop\n",
        "\n",
        "iterates over a sequence (such as list, tuple, dictionary, set or string)"
      ],
      "metadata": {
        "id": "IIJV7QiFHaIc"
      }
    },
    {
      "cell_type": "code",
      "source": [
        "for i in range(5):\n",
        "  print(i)"
      ],
      "metadata": {
        "colab": {
          "base_uri": "https://localhost:8080/"
        },
        "id": "CAMnvfCTHIkx",
        "outputId": "07af625d-0ac3-4621-a3f3-4ce7b382e8a7"
      },
      "execution_count": null,
      "outputs": [
        {
          "output_type": "stream",
          "name": "stdout",
          "text": [
            "0\n",
            "1\n",
            "2\n",
            "3\n",
            "4\n"
          ]
        }
      ]
    },
    {
      "cell_type": "markdown",
      "source": [
        "## 'While' Loop\n",
        "\n",
        "the while loop executes a block of code as long as a specified condition is true"
      ],
      "metadata": {
        "id": "to6w4ziBIsOl"
      }
    },
    {
      "cell_type": "code",
      "source": [
        "x = 0\n",
        "while x < 5:\n",
        "  print(x)\n",
        "  x+= 1\n"
      ],
      "metadata": {
        "colab": {
          "base_uri": "https://localhost:8080/"
        },
        "id": "BFgKItboG6eL",
        "outputId": "f0297053-dc72-4f2a-abd6-5868e1e87681"
      },
      "execution_count": null,
      "outputs": [
        {
          "output_type": "stream",
          "name": "stdout",
          "text": [
            "0\n",
            "1\n",
            "2\n",
            "3\n",
            "4\n"
          ]
        }
      ]
    },
    {
      "cell_type": "markdown",
      "source": [
        "# **Control Flow Tools**\n",
        "\n",
        "Pyhton provides several tools to cotrol the flow of loops and conditionals."
      ],
      "metadata": {
        "id": "AkCuo5W6I4SM"
      }
    },
    {
      "cell_type": "markdown",
      "source": [
        "## **'Break' Statement**\n",
        "\n",
        "The break statement terminates the loop prematurely"
      ],
      "metadata": {
        "id": "hCUS8UWoJdNf"
      }
    },
    {
      "cell_type": "code",
      "source": [
        "for i in range(10):\n",
        "  if i == 5:\n",
        "    break\n",
        "  print(i)"
      ],
      "metadata": {
        "colab": {
          "base_uri": "https://localhost:8080/"
        },
        "id": "VKNNwjwDIf67",
        "outputId": "29ba306c-71fe-4f8f-a3f5-39a242ec8418"
      },
      "execution_count": null,
      "outputs": [
        {
          "output_type": "stream",
          "name": "stdout",
          "text": [
            "0\n",
            "1\n",
            "2\n",
            "3\n",
            "4\n"
          ]
        }
      ]
    },
    {
      "cell_type": "markdown",
      "source": [
        "## **'Continue' statement**\n",
        "\n",
        "The condition statement skips the rest of the code inside the loop inside the loop for the current iteration and moves to the next iteration."
      ],
      "metadata": {
        "id": "Dqclj9EtJxSu"
      }
    },
    {
      "cell_type": "code",
      "source": [
        "for i in range(10):\n",
        "  if i % 2 == 0:\n",
        "    continue\n",
        "  print(i)"
      ],
      "metadata": {
        "colab": {
          "base_uri": "https://localhost:8080/"
        },
        "id": "9Ant1rD6Jt3q",
        "outputId": "034b4bc7-c015-425c-b708-d87f4aeaca88"
      },
      "execution_count": null,
      "outputs": [
        {
          "output_type": "stream",
          "name": "stdout",
          "text": [
            "1\n",
            "3\n",
            "5\n",
            "7\n",
            "9\n"
          ]
        }
      ]
    },
    {
      "cell_type": "markdown",
      "source": [
        "## **'pass' Statement**\n",
        "\n",
        "The pass statement does nothing and is used as a placeholder"
      ],
      "metadata": {
        "id": "1EtCg1CfP61c"
      }
    },
    {
      "cell_type": "code",
      "source": [
        "for i in range(10):\n",
        "  if i % 2 == 0:\n",
        "    pass\n",
        "  else:\n",
        "    print(i)"
      ],
      "metadata": {
        "colab": {
          "base_uri": "https://localhost:8080/"
        },
        "id": "sGs5qOPJPIwL",
        "outputId": "1887bcbe-e72e-4e2c-9156-d50a486ceb8e"
      },
      "execution_count": null,
      "outputs": [
        {
          "output_type": "stream",
          "name": "stdout",
          "text": [
            "1\n",
            "3\n",
            "5\n",
            "7\n",
            "9\n"
          ]
        }
      ]
    },
    {
      "cell_type": "code",
      "source": [
        "# Filter out the even numbers from a list\n",
        "\n",
        "data = [1, 2, 3, 4, 5, 6, 7, 8, 9, 10]\n",
        "even_numbers = [x for x in data if x % 2 == 0]\n",
        "print(even_numbers)\n",
        "\n"
      ],
      "metadata": {
        "colab": {
          "base_uri": "https://localhost:8080/"
        },
        "id": "XNViXpdZQQ7m",
        "outputId": "41cf5034-1d11-4ffe-a88a-8843a5eeaf9c"
      },
      "execution_count": null,
      "outputs": [
        {
          "output_type": "stream",
          "name": "stdout",
          "text": [
            "[2, 4, 6, 8, 10]\n"
          ]
        }
      ]
    },
    {
      "cell_type": "code",
      "source": [
        "# Calculate the sum of all elements in a lit\n",
        "\n",
        "print(\"\\nSum First way :\")\n",
        "data2 = [1, 2, 3, 4]\n",
        "sum = 0\n",
        "for k in range(len(data2)):\n",
        "  sum += data2[k]\n",
        "print(sum)\n",
        "\n",
        "print(\"\\nSum Second way :\")\n",
        "data2 = [1, 2, 3, 4]\n",
        "sum = 0\n",
        "for elem in data2:\n",
        "  sum += elem\n",
        "print(sum)\n"
      ],
      "metadata": {
        "colab": {
          "base_uri": "https://localhost:8080/"
        },
        "id": "MJbKVI8gScYw",
        "outputId": "ebfec98d-8746-4a31-ffe4-977d6841403e"
      },
      "execution_count": null,
      "outputs": [
        {
          "output_type": "stream",
          "name": "stdout",
          "text": [
            "\n",
            "Sum First way :\n",
            "10\n",
            "\n",
            "Sum Second way :\n",
            "10\n"
          ]
        }
      ]
    },
    {
      "cell_type": "code",
      "source": [
        "# Write a pgrm that print\n",
        "\n",
        "for k in range(1,51):\n",
        "  if k % 3 == 0 and k % 5 == 0:\n",
        "    print(\"FizzBuzz\")\n",
        "  elif k % 3 == 0:\n",
        "    print(\"Fizz\")\n",
        "  elif k % 5 == 0:\n",
        "    print(\"Buzz\")\n",
        "  else:\n",
        "    print(k)\n"
      ],
      "metadata": {
        "colab": {
          "base_uri": "https://localhost:8080/"
        },
        "id": "OI9PF5JYS4vx",
        "outputId": "dd18e230-448d-4fb4-a678-0a65c7a8502c"
      },
      "execution_count": null,
      "outputs": [
        {
          "output_type": "stream",
          "name": "stdout",
          "text": [
            "1\n",
            "2\n",
            "Fizz\n",
            "4\n",
            "Buzz\n",
            "Fizz\n",
            "7\n",
            "8\n",
            "Fizz\n",
            "Buzz\n",
            "11\n",
            "Fizz\n",
            "13\n",
            "14\n",
            "FizzBuzz\n",
            "16\n",
            "17\n",
            "Fizz\n",
            "19\n",
            "Buzz\n",
            "Fizz\n",
            "22\n",
            "23\n",
            "Fizz\n",
            "Buzz\n",
            "26\n",
            "Fizz\n",
            "28\n",
            "29\n",
            "FizzBuzz\n",
            "31\n",
            "32\n",
            "Fizz\n",
            "34\n",
            "Buzz\n",
            "Fizz\n",
            "37\n",
            "38\n",
            "Fizz\n",
            "Buzz\n",
            "41\n",
            "Fizz\n",
            "43\n",
            "44\n",
            "FizzBuzz\n",
            "46\n",
            "47\n",
            "Fizz\n",
            "49\n",
            "Buzz\n"
          ]
        }
      ]
    },
    {
      "cell_type": "code",
      "source": [
        "for i in range(2,101):\n",
        "  is_Prime = True\n",
        "  for j in range(2,i):\n",
        "    if i % j == 0:\n",
        "      is_Prime = False\n",
        "      break\n",
        "  if is_Prime:\n",
        "      print(i)"
      ],
      "metadata": {
        "colab": {
          "base_uri": "https://localhost:8080/"
        },
        "id": "IfOkvuL7c9Tb",
        "outputId": "a009b1a2-69e7-4e68-d369-87c6e4854a3d"
      },
      "execution_count": null,
      "outputs": [
        {
          "output_type": "stream",
          "name": "stdout",
          "text": [
            "2\n",
            "3\n",
            "5\n",
            "7\n",
            "11\n",
            "13\n",
            "17\n",
            "19\n",
            "23\n",
            "29\n",
            "31\n",
            "37\n",
            "41\n",
            "43\n",
            "47\n",
            "53\n",
            "59\n",
            "61\n",
            "67\n",
            "71\n",
            "73\n",
            "79\n",
            "83\n",
            "89\n",
            "97\n"
          ]
        }
      ]
    },
    {
      "cell_type": "code",
      "source": [
        "# write a program to find the sum of the digit of a number\n",
        "\n",
        "num = 123\n",
        "sum = 0\n",
        "while num > 0:\n",
        "  digit = num % 10\n",
        "  sum += digit\n",
        "  num //= 10\n",
        "print(sum)"
      ],
      "metadata": {
        "colab": {
          "base_uri": "https://localhost:8080/"
        },
        "id": "cPZMDOXrdono",
        "outputId": "a0811e61-eeb2-409f-e0ec-b607b342d86c"
      },
      "execution_count": null,
      "outputs": [
        {
          "output_type": "stream",
          "name": "stdout",
          "text": [
            "6\n"
          ]
        }
      ]
    },
    {
      "cell_type": "code",
      "source": [
        "# write a program to write the fibonnacci sequence up to n terms\n",
        "\n",
        "n = 10\n",
        "a, b = 0, 1\n",
        "for _ in range(n):\n",
        "  print(a)\n",
        "  a , b = b , a + b"
      ],
      "metadata": {
        "colab": {
          "base_uri": "https://localhost:8080/"
        },
        "id": "v3KbIDKne2md",
        "outputId": "d6c1dd65-dde3-4909-a3ba-dc099bfe3edc"
      },
      "execution_count": null,
      "outputs": [
        {
          "output_type": "stream",
          "name": "stdout",
          "text": [
            "0\n",
            "1\n",
            "1\n",
            "2\n",
            "3\n",
            "5\n",
            "8\n",
            "13\n",
            "21\n",
            "34\n"
          ]
        }
      ]
    },
    {
      "cell_type": "code",
      "source": [
        "num = int(input(\"Enter a number: \"))\n",
        "fact = 1\n",
        "for i in range(1, num + 1):\n",
        "  fact *= i\n",
        "print(fact)\n"
      ],
      "metadata": {
        "colab": {
          "base_uri": "https://localhost:8080/"
        },
        "id": "ZToNpamKfXk5",
        "outputId": "6f283b20-d71b-419c-d513-70c6dff153fb"
      },
      "execution_count": null,
      "outputs": [
        {
          "output_type": "stream",
          "name": "stdout",
          "text": [
            "Enter a number: 5\n",
            "120\n"
          ]
        }
      ]
    },
    {
      "cell_type": "code",
      "source": [
        "# write a progrm to reverse a given string\n",
        "\n",
        "s = \"data science\"\n",
        "print(len(s))\n",
        "reversed_s = \"\"\n",
        "#permet d'itérer sur une séquence s en sens inverse, du dernier élément au premier. (nb el, dernier element,indice 0, le pas)\n",
        "for i in range(len(s)-1, -1, -1):\n",
        "  reversed_s += s[i]\n",
        "print(reversed_s)"
      ],
      "metadata": {
        "colab": {
          "base_uri": "https://localhost:8080/"
        },
        "id": "vW3czKqRf3vV",
        "outputId": "9d51234b-c7aa-47dc-deb2-c9598cb095eb"
      },
      "execution_count": null,
      "outputs": [
        {
          "output_type": "stream",
          "name": "stdout",
          "text": [
            "12\n",
            "ecneics atad\n"
          ]
        }
      ]
    },
    {
      "cell_type": "code",
      "source": [
        "# write a prgrm to check is a string is a palindrome\n",
        "\n",
        "s = \"malayalam\"\n",
        "reversed_s = \"\"\n",
        "for i in range(len(s)-1, -1, -1):\n",
        "  reversed_s += s[i]\n",
        "if s == reversed_s:\n",
        "  print(\"Palindrome\")\n",
        "else:\n",
        "  print(\"Not a palindrome\")\n",
        "\n",
        "\n",
        "         #AUTRE POSSIBILITE\n",
        "\n",
        "d = \"radar\"\n",
        "is_palindrome =  d == d[::-1]\n",
        "print(\"is Palindrome : \" , is_palindrome)"
      ],
      "metadata": {
        "colab": {
          "base_uri": "https://localhost:8080/"
        },
        "id": "NplihznCiA6u",
        "outputId": "86be4598-3c42-4137-c761-2f6022d2c25f"
      },
      "execution_count": null,
      "outputs": [
        {
          "output_type": "stream",
          "name": "stdout",
          "text": [
            "Palindrome\n",
            "is Palindrome :  True\n"
          ]
        }
      ]
    },
    {
      "cell_type": "code",
      "source": [
        "# write a program to count the number of vowels and consonants in a string\n",
        "\n",
        "s = \"hello world\"\n",
        "vowels = \"aeiou\"\n",
        "consonants = \"bcdfghjklmnpqrstvwxyz\"\n",
        "v = 0\n",
        "c = 0\n",
        "for char in s:\n",
        "  if char in vowels:\n",
        "    v += 1\n",
        "  elif char in consonants:\n",
        "    c += 1\n",
        "print(\"Vowels : \", v)\n",
        "print(\"Consonants : \", c)"
      ],
      "metadata": {
        "colab": {
          "base_uri": "https://localhost:8080/"
        },
        "id": "VLnR2IjUikt-",
        "outputId": "fb8ebd7f-4d7b-4aea-87aa-213ce9bb365e"
      },
      "execution_count": null,
      "outputs": [
        {
          "output_type": "stream",
          "name": "stdout",
          "text": [
            "Vowels :  3\n",
            "Consonants :  7\n"
          ]
        }
      ]
    },
    {
      "cell_type": "code",
      "source": [
        "# write a program to calculate the sum of all even numbers in a list\n",
        "\n",
        "l = [1, 2, 3, 4, 5, 6, 7, 8, 9, 10]\n",
        "sum = 0\n",
        "for element in l:\n",
        "  if element % 2 == 0:\n",
        "    sum += element\n",
        "print(sum)"
      ],
      "metadata": {
        "colab": {
          "base_uri": "https://localhost:8080/"
        },
        "id": "ezcXAEbIj09O",
        "outputId": "2647fc35-e616-42ab-b924-5cfe676d03d4"
      },
      "execution_count": null,
      "outputs": [
        {
          "output_type": "stream",
          "name": "stdout",
          "text": [
            "30\n"
          ]
        }
      ]
    },
    {
      "cell_type": "code",
      "source": [
        "# write a prgrm to print a multiplication table (from 1 to 10)\n",
        "\n",
        "for i in range(1, 11):\n",
        "  for j in range(1, 11):\n",
        "    print(f\"{i} x {j} = {i * j}\", end=\"\\t\")\n",
        "  print()\n"
      ],
      "metadata": {
        "colab": {
          "base_uri": "https://localhost:8080/"
        },
        "id": "fxb5a5wKkQi5",
        "outputId": "914ca930-63fe-4fcf-f9af-dd57104810bc"
      },
      "execution_count": null,
      "outputs": [
        {
          "output_type": "stream",
          "name": "stdout",
          "text": [
            "1 x 1 = 1\t1 x 2 = 2\t1 x 3 = 3\t1 x 4 = 4\t1 x 5 = 5\t1 x 6 = 6\t1 x 7 = 7\t1 x 8 = 8\t1 x 9 = 9\t1 x 10 = 10\t\n",
            "2 x 1 = 2\t2 x 2 = 4\t2 x 3 = 6\t2 x 4 = 8\t2 x 5 = 10\t2 x 6 = 12\t2 x 7 = 14\t2 x 8 = 16\t2 x 9 = 18\t2 x 10 = 20\t\n",
            "3 x 1 = 3\t3 x 2 = 6\t3 x 3 = 9\t3 x 4 = 12\t3 x 5 = 15\t3 x 6 = 18\t3 x 7 = 21\t3 x 8 = 24\t3 x 9 = 27\t3 x 10 = 30\t\n",
            "4 x 1 = 4\t4 x 2 = 8\t4 x 3 = 12\t4 x 4 = 16\t4 x 5 = 20\t4 x 6 = 24\t4 x 7 = 28\t4 x 8 = 32\t4 x 9 = 36\t4 x 10 = 40\t\n",
            "5 x 1 = 5\t5 x 2 = 10\t5 x 3 = 15\t5 x 4 = 20\t5 x 5 = 25\t5 x 6 = 30\t5 x 7 = 35\t5 x 8 = 40\t5 x 9 = 45\t5 x 10 = 50\t\n",
            "6 x 1 = 6\t6 x 2 = 12\t6 x 3 = 18\t6 x 4 = 24\t6 x 5 = 30\t6 x 6 = 36\t6 x 7 = 42\t6 x 8 = 48\t6 x 9 = 54\t6 x 10 = 60\t\n",
            "7 x 1 = 7\t7 x 2 = 14\t7 x 3 = 21\t7 x 4 = 28\t7 x 5 = 35\t7 x 6 = 42\t7 x 7 = 49\t7 x 8 = 56\t7 x 9 = 63\t7 x 10 = 70\t\n",
            "8 x 1 = 8\t8 x 2 = 16\t8 x 3 = 24\t8 x 4 = 32\t8 x 5 = 40\t8 x 6 = 48\t8 x 7 = 56\t8 x 8 = 64\t8 x 9 = 72\t8 x 10 = 80\t\n",
            "9 x 1 = 9\t9 x 2 = 18\t9 x 3 = 27\t9 x 4 = 36\t9 x 5 = 45\t9 x 6 = 54\t9 x 7 = 63\t9 x 8 = 72\t9 x 9 = 81\t9 x 10 = 90\t\n",
            "10 x 1 = 10\t10 x 2 = 20\t10 x 3 = 30\t10 x 4 = 40\t10 x 5 = 50\t10 x 6 = 60\t10 x 7 = 70\t10 x 8 = 80\t10 x 9 = 90\t10 x 10 = 100\t\n"
          ]
        }
      ]
    },
    {
      "cell_type": "code",
      "source": [
        "# use list comprehension to create a list of squares of even numbers from a given list.\n",
        "\n",
        "l = [1, 2, 3, 4, 5, 6, 7, 8, 9, 10]\n",
        "\n",
        "sq = [x**2 for x in l if x % 2 == 0]\n",
        "\n",
        "print(\"Squares of even numbers\", sq)\n",
        "\n"
      ],
      "metadata": {
        "colab": {
          "base_uri": "https://localhost:8080/"
        },
        "id": "OuTCwiLnkn-c",
        "outputId": "658d0150-3098-4943-ad4e-4d66eabbeda0"
      },
      "execution_count": null,
      "outputs": [
        {
          "output_type": "stream",
          "name": "stdout",
          "text": [
            "Squares of even numbers [4, 16, 36, 64, 100]\n"
          ]
        }
      ]
    },
    {
      "cell_type": "code",
      "source": [
        "# write a prgrm to find the common elements in twho lists\n",
        "list1 = [1, 2, 3, 4, 5]\n",
        "list2 = [3, 5, 8, 9, 10]\n",
        "\n",
        "result = [x for x in list1 if x in list2 ]\n",
        "print (result)"
      ],
      "metadata": {
        "colab": {
          "base_uri": "https://localhost:8080/"
        },
        "id": "LeRH5zknllT6",
        "outputId": "3e1a1c04-ac6f-4417-dbd1-b7c9448c40d0"
      },
      "execution_count": null,
      "outputs": [
        {
          "output_type": "stream",
          "name": "stdout",
          "text": [
            "[3, 5]\n"
          ]
        }
      ]
    },
    {
      "cell_type": "code",
      "source": [
        "# write a prgrm to c\n",
        "\n",
        "numbers = [1, 2, 3, 4, 5, 6, 7, 8, 9, 10]\n",
        "av = 0\n",
        "for x in numbers:\n",
        "  av += x\n",
        "av /= len(numbers)\n",
        "print(av)"
      ],
      "metadata": {
        "colab": {
          "base_uri": "https://localhost:8080/"
        },
        "id": "I_dtkIKsl427",
        "outputId": "5e5d22c4-4061-40ea-d520-9c8deed9f9c0"
      },
      "execution_count": null,
      "outputs": [
        {
          "output_type": "stream",
          "name": "stdout",
          "text": [
            "5.5\n"
          ]
        }
      ]
    },
    {
      "cell_type": "code",
      "source": [
        "# write a prgrm to remove duplicates in a list\n",
        "liste = [1, 2, 3, 4, 3, 5, 6, 2, 7, 8, 8]\n",
        "\n",
        "unique_list = []\n",
        "for num in liste:\n",
        "  if num not in unique_list:\n",
        "    unique_list.append(num)\n",
        "print(unique_list)"
      ],
      "metadata": {
        "colab": {
          "base_uri": "https://localhost:8080/"
        },
        "id": "KSN5fxC5mq9R",
        "outputId": "92b81576-1e3d-4f36-db9b-d566a2fb9dea"
      },
      "execution_count": null,
      "outputs": [
        {
          "output_type": "stream",
          "name": "stdout",
          "text": [
            "[1, 2, 3, 4, 5, 6, 7, 8]\n"
          ]
        }
      ]
    },
    {
      "cell_type": "code",
      "source": [
        "# Write a program to flatten a nested list.\n",
        "\n",
        "# Input: [1, [2, [3, 4], 5], 6]\n",
        "# Output: [1, 2, 3, 4, 5, 6]\n",
        "\n",
        "nested_list = [[1, 2, 3], [4, 5], [6, 7, 8, 9]]\n",
        "flattened_list = [item for sublist in nested_list for item in sublist]\n",
        "print(\"Flattened list:\", flattened_list)"
      ],
      "metadata": {
        "colab": {
          "base_uri": "https://localhost:8080/"
        },
        "id": "eozizSgfpZPu",
        "outputId": "f0fecd02-de36-4363-fe42-3d36b880ba11"
      },
      "execution_count": null,
      "outputs": [
        {
          "output_type": "stream",
          "name": "stdout",
          "text": [
            "Flattened list: [1, 2, 3, 4, 5, 6, 7, 8, 9]\n"
          ]
        }
      ]
    },
    {
      "cell_type": "code",
      "source": [
        "# Write a program to generate a dictionary from two lists, one for keys and one for values\n",
        "keys = ['a', 'b', 'c', 'd']\n",
        "values = [1, 2, 3, 4]\n",
        "dictionary = dict(zip(keys, values))\n",
        "\n",
        "print(\"Dictionary:\", dictionary)"
      ],
      "metadata": {
        "colab": {
          "base_uri": "https://localhost:8080/"
        },
        "id": "gb87arokpr4-",
        "outputId": "d8d67e0e-302e-497c-8af2-5bbc253168a7"
      },
      "execution_count": null,
      "outputs": [
        {
          "output_type": "stream",
          "name": "stdout",
          "text": [
            "Dictionary: {'a': 1, 'b': 2, 'c': 3, 'd': 4}\n"
          ]
        }
      ]
    },
    {
      "cell_type": "code",
      "source": [
        "# Write a program to find the longest word in a given sentence.\n",
        "s = \"hello world, my name is Yossi and I am a Data Scientist\"\n",
        "\n",
        "split_list = s.split()\n",
        "length_list = [len(word) for word in s.split()]\n",
        "max = 0\n",
        "\n",
        "for i in range(len(split_list)):\n",
        "  if length_list[i] > max:\n",
        "    max = length_list[i]\n",
        "    maximum = split_list[i]\n",
        "print(maximum)"
      ],
      "metadata": {
        "id": "nFiuMLxQsPP2",
        "colab": {
          "base_uri": "https://localhost:8080/"
        },
        "outputId": "24c46221-dd21-4b44-8d7d-e6ef3deac7ca"
      },
      "execution_count": 11,
      "outputs": [
        {
          "output_type": "stream",
          "name": "stdout",
          "text": [
            "Scientist\n"
          ]
        }
      ]
    },
    {
      "cell_type": "code",
      "source": [
        "# Write a program to generate the first n prime numbers.\n",
        "n = int(input(\"Enter a number: \"))\n",
        "for i in range(2,n+1):\n",
        "  is_Prime = True\n",
        "  for j in range(2,i):\n",
        "    if i % j == 0:\n",
        "      is_Prime = False\n",
        "      break\n",
        "  if is_Prime:\n",
        "      print(i)"
      ],
      "metadata": {
        "colab": {
          "base_uri": "https://localhost:8080/"
        },
        "id": "VmVyxtUKtfH6",
        "outputId": "c7d86e31-b76a-491f-8f47-485511482c17"
      },
      "execution_count": 14,
      "outputs": [
        {
          "output_type": "stream",
          "name": "stdout",
          "text": [
            "Enter a number: 17\n",
            "2\n",
            "3\n",
            "5\n",
            "7\n",
            "11\n",
            "13\n",
            "17\n"
          ]
        }
      ]
    },
    {
      "cell_type": "code",
      "source": [
        "#  Write a program to convert a decimal number to its binary representation.\n",
        "\n",
        "number = 10\n",
        "binary = \"\"\n",
        "while number > 0:\n",
        "  binary = str(number % 2) + binary\n",
        "  print(binary)\n",
        "  number //= 2\n",
        "print(\"binary representation : \", binary)"
      ],
      "metadata": {
        "colab": {
          "base_uri": "https://localhost:8080/"
        },
        "id": "XvE5U-dgvIi4",
        "outputId": "1bf88d04-a488-4b77-f6a6-a42f4b34ce74"
      },
      "execution_count": 22,
      "outputs": [
        {
          "output_type": "stream",
          "name": "stdout",
          "text": [
            "0\n",
            "10\n",
            "010\n",
            "1010\n",
            "binary representation :  1010\n"
          ]
        }
      ]
    },
    {
      "cell_type": "code",
      "source": [
        "# Write a program to sort a list of dictionaries by a specified key.\n",
        "\n",
        "list_of_dict = [{\"name\": \"Alice\", \"age\": 25}, {\"name\": \"Bob\", \"age\": 30}, {\"name\": \"Charlie\", \"age\": 20}]\n",
        "sorted_list = sorted(list_of_dict, key=lambda x: x[\"age\"])\n",
        "print(sorted_list)"
      ],
      "metadata": {
        "colab": {
          "base_uri": "https://localhost:8080/"
        },
        "id": "RbTk64NmvlD3",
        "outputId": "ff4a4e09-d12d-4329-b42f-601a74c689c7"
      },
      "execution_count": 23,
      "outputs": [
        {
          "output_type": "stream",
          "name": "stdout",
          "text": [
            "[{'name': 'Charlie', 'age': 20}, {'name': 'Alice', 'age': 25}, {'name': 'Bob', 'age': 30}]\n"
          ]
        }
      ]
    },
    {
      "cell_type": "code",
      "source": [
        "#  Write a program to calculate the greatest common divisor (GCD) of two numbers.\n",
        "\n",
        "a = 24\n",
        "b = 36\n",
        "\n",
        "while b != 0:\n",
        "  temp = b\n",
        "  print(temp)\n",
        "  b = a % b\n",
        "  print(b)\n",
        "  a = temp\n",
        "  print(a)\n",
        "  print(\"\\n\")\n",
        "print(a)\n",
        "#"
      ],
      "metadata": {
        "colab": {
          "base_uri": "https://localhost:8080/"
        },
        "id": "NnBUEH0qw-aY",
        "outputId": "c432403b-9c36-4243-b4d1-20612dc371ce"
      },
      "execution_count": 25,
      "outputs": [
        {
          "output_type": "stream",
          "name": "stdout",
          "text": [
            "36\n",
            "24\n",
            "36\n",
            "\n",
            "\n",
            "24\n",
            "12\n",
            "24\n",
            "\n",
            "\n",
            "12\n",
            "0\n",
            "12\n",
            "\n",
            "\n",
            "12\n"
          ]
        }
      ]
    },
    {
      "cell_type": "code",
      "source": [
        "# Write a program to generate a list of the first n Fibonacci numbers.\n",
        "\n",
        "n = int(input(\"Enter a number: \"))\n",
        "a, b = 0, 1\n",
        "for _ in range(n):\n",
        "  print(a)\n",
        "  a , b = b , a + b"
      ],
      "metadata": {
        "colab": {
          "base_uri": "https://localhost:8080/"
        },
        "id": "fMQET6OxxRZ0",
        "outputId": "39b0275a-9b13-4b8b-cbe9-30124ae19440"
      },
      "execution_count": 27,
      "outputs": [
        {
          "output_type": "stream",
          "name": "stdout",
          "text": [
            "Enter a number: 5\n",
            "0\n",
            "1\n",
            "1\n",
            "2\n",
            "3\n"
          ]
        }
      ]
    },
    {
      "cell_type": "code",
      "source": [
        "# Write a program to find the intersection of two lists.\n",
        "\n",
        "L1 = [1, 2, 3, 4, 5]\n",
        "L2 = [3, 4, 5, 6, 7]\n",
        "\n",
        "intersection = [x for x in L1 if x in L2]\n",
        "print(intersection)"
      ],
      "metadata": {
        "colab": {
          "base_uri": "https://localhost:8080/"
        },
        "id": "3XLeuQa2zCAN",
        "outputId": "16e20dc8-7c07-41b6-dc98-48096cb68be3"
      },
      "execution_count": 28,
      "outputs": [
        {
          "output_type": "stream",
          "name": "stdout",
          "text": [
            "[3, 4, 5]\n"
          ]
        }
      ]
    },
    {
      "cell_type": "code",
      "source": [
        "# Write a program to merge two sorted lists into a single sorted list without using function sort\n",
        "\n",
        "L1 = [1, 3, 5, 7, 9]\n",
        "L2 = [2, 4, 6, 8, 10]\n",
        "\n",
        "merged_list = []\n",
        "i = 0\n",
        "j = 0\n",
        "while i < len(L1) and j < len(L2):\n",
        "  if L1[i] < L2[j]:\n",
        "    merged_list.append(L1[i])\n",
        "    i += 1\n",
        "    print(merged_list)\n",
        "  else:\n",
        "    merged_list.append(L2[j])\n",
        "    j += 1\n",
        "    print(merged_list)\n",
        "\n",
        ""
      ],
      "metadata": {
        "colab": {
          "base_uri": "https://localhost:8080/"
        },
        "id": "y0QbLezdzLkt",
        "outputId": "1f5c87bc-8609-41ab-8641-8d6f0bfff0d2"
      },
      "execution_count": 30,
      "outputs": [
        {
          "output_type": "stream",
          "name": "stdout",
          "text": [
            "[1]\n",
            "[1, 2]\n",
            "[1, 2, 3]\n",
            "[1, 2, 3, 4]\n",
            "[1, 2, 3, 4, 5]\n",
            "[1, 2, 3, 4, 5, 6]\n",
            "[1, 2, 3, 4, 5, 6, 7]\n",
            "[1, 2, 3, 4, 5, 6, 7, 8]\n",
            "[1, 2, 3, 4, 5, 6, 7, 8, 9]\n"
          ]
        }
      ]
    },
    {
      "cell_type": "code",
      "source": [
        "#  Write a program to calculate the dot product of two vectors.\n",
        "\n",
        "v1 = [1, 2, 3]\n",
        "v2 = [4, 5, 6]\n",
        "\n",
        "dot_product = sum([x * y for x, y in  zip(v1, v2) ])\n",
        "print(dot_product)"
      ],
      "metadata": {
        "colab": {
          "base_uri": "https://localhost:8080/"
        },
        "id": "heAxZzLMzTuY",
        "outputId": "6b0d0bbd-12ed-4b87-b3bf-b598368ae475"
      },
      "execution_count": 36,
      "outputs": [
        {
          "output_type": "stream",
          "name": "stdout",
          "text": [
            "32\n"
          ]
        }
      ]
    },
    {
      "cell_type": "code",
      "source": [
        "# Write a program to implement a simple calculator that can perform basic arithmetic operations (+, -, *, /)\n",
        "\n",
        "\n",
        "def add(x, y):\n",
        "    return x + y\n",
        "\n",
        "def subtract(x, y):\n",
        "    return x - y\n",
        "\n",
        "def multiply(x, y):\n",
        "    return x * y\n",
        "\n",
        "def divide(x, y):\n",
        "    if y == 0:\n",
        "        return \"Error! Division by zero.\"\n",
        "    return x / y\n",
        "\n",
        "def calculator():\n",
        "    print(\"Simple Calculator\")\n",
        "    print(\"Select operation:\")\n",
        "    print(\"1. Add\")\n",
        "    print(\"2. Subtract\")\n",
        "    print(\"3. Multiply\")\n",
        "    print(\"4. Divide\")\n",
        "\n",
        "    while True:\n",
        "        # Take input from the user\n",
        "        choice = input(\"Enter choice (1/2/3/4): \")\n",
        "\n",
        "        if choice in ['1', '2', '3', '4']:\n",
        "            num1 = float(input(\"Enter first number: \"))\n",
        "            num2 = float(input(\"Enter second number: \"))\n",
        "\n",
        "            if choice == '1':\n",
        "                print(f\"The result is: {add(num1, num2)}\")\n",
        "\n",
        "            elif choice == '2':\n",
        "                print(f\"The result is: {subtract(num1, num2)}\")\n",
        "\n",
        "            elif choice == '3':\n",
        "                print(f\"The result is: {multiply(num1, num2)}\")\n",
        "\n",
        "            elif choice == '4':\n",
        "                print(f\"The result is: {divide(num1, num2)}\")\n",
        "\n",
        "            # Ask if the user wants to perform another calculation\n",
        "            next_calculation = input(\"Do you want to perform another calculation? (yes/no): \")\n",
        "            if next_calculation.lower() != 'yes':\n",
        "                break\n",
        "        else:\n",
        "            print(\"Invalid input\")\n",
        "\n",
        "if __name__ == \"__main__\":\n",
        "    calculator()\n",
        "\n"
      ],
      "metadata": {
        "colab": {
          "base_uri": "https://localhost:8080/"
        },
        "id": "M5q256-J0ptj",
        "outputId": "7b11b188-8db4-4daf-b413-74bed205b123"
      },
      "execution_count": null,
      "outputs": [
        {
          "output_type": "stream",
          "name": "stdout",
          "text": [
            "Simple Calculator\n",
            "Select operation:\n",
            "1. Add\n",
            "2. Subtract\n",
            "3. Multiply\n",
            "4. Divide\n",
            "Enter choice (1/2/3/4): 1\n",
            "Enter first number: 2\n",
            "Enter second number: 3\n",
            "The result is: 5.0\n"
          ]
        }
      ]
    },
    {
      "cell_type": "code",
      "source": [],
      "metadata": {
        "id": "x66hNDpV3h4h"
      },
      "execution_count": null,
      "outputs": []
    }
  ]
}